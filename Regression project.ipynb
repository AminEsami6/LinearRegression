{
 "cells": [
  {
   "cell_type": "code",
   "execution_count": 1,
   "id": "e5232065",
   "metadata": {},
   "outputs": [],
   "source": [
    "# In the Name of God"
   ]
  },
  {
   "cell_type": "code",
   "execution_count": 2,
   "id": "7f5768dc",
   "metadata": {},
   "outputs": [],
   "source": [
    "import pandas as pd\n",
    "import numpy as np\n",
    "from sklearn import preprocessing\n",
    "from sklearn.model_selection import train_test_split"
   ]
  },
  {
   "cell_type": "code",
   "execution_count": 3,
   "id": "39988759",
   "metadata": {},
   "outputs": [
    {
     "data": {
      "text/html": [
       "<div>\n",
       "<style scoped>\n",
       "    .dataframe tbody tr th:only-of-type {\n",
       "        vertical-align: middle;\n",
       "    }\n",
       "\n",
       "    .dataframe tbody tr th {\n",
       "        vertical-align: top;\n",
       "    }\n",
       "\n",
       "    .dataframe thead th {\n",
       "        text-align: right;\n",
       "    }\n",
       "</style>\n",
       "<table border=\"1\" class=\"dataframe\">\n",
       "  <thead>\n",
       "    <tr style=\"text-align: right;\">\n",
       "      <th></th>\n",
       "      <th>Area</th>\n",
       "      <th>Room</th>\n",
       "      <th>Parking</th>\n",
       "      <th>Warehouse</th>\n",
       "      <th>Elevator</th>\n",
       "      <th>Address</th>\n",
       "      <th>Price</th>\n",
       "      <th>Price(USD)</th>\n",
       "    </tr>\n",
       "  </thead>\n",
       "  <tbody>\n",
       "    <tr>\n",
       "      <th>0</th>\n",
       "      <td>63</td>\n",
       "      <td>1</td>\n",
       "      <td>True</td>\n",
       "      <td>True</td>\n",
       "      <td>True</td>\n",
       "      <td>Shahran</td>\n",
       "      <td>1.850000e+09</td>\n",
       "      <td>61666.67</td>\n",
       "    </tr>\n",
       "    <tr>\n",
       "      <th>1</th>\n",
       "      <td>60</td>\n",
       "      <td>1</td>\n",
       "      <td>True</td>\n",
       "      <td>True</td>\n",
       "      <td>True</td>\n",
       "      <td>Shahran</td>\n",
       "      <td>1.850000e+09</td>\n",
       "      <td>61666.67</td>\n",
       "    </tr>\n",
       "    <tr>\n",
       "      <th>2</th>\n",
       "      <td>79</td>\n",
       "      <td>2</td>\n",
       "      <td>True</td>\n",
       "      <td>True</td>\n",
       "      <td>True</td>\n",
       "      <td>Pardis</td>\n",
       "      <td>5.500000e+08</td>\n",
       "      <td>18333.33</td>\n",
       "    </tr>\n",
       "    <tr>\n",
       "      <th>3</th>\n",
       "      <td>95</td>\n",
       "      <td>2</td>\n",
       "      <td>True</td>\n",
       "      <td>True</td>\n",
       "      <td>True</td>\n",
       "      <td>Shahrake Qods</td>\n",
       "      <td>9.025000e+08</td>\n",
       "      <td>30083.33</td>\n",
       "    </tr>\n",
       "    <tr>\n",
       "      <th>4</th>\n",
       "      <td>123</td>\n",
       "      <td>2</td>\n",
       "      <td>True</td>\n",
       "      <td>True</td>\n",
       "      <td>True</td>\n",
       "      <td>Shahrake Gharb</td>\n",
       "      <td>7.000000e+09</td>\n",
       "      <td>233333.33</td>\n",
       "    </tr>\n",
       "  </tbody>\n",
       "</table>\n",
       "</div>"
      ],
      "text/plain": [
       "  Area  Room  Parking  Warehouse  Elevator         Address         Price  \\\n",
       "0   63     1     True       True      True         Shahran  1.850000e+09   \n",
       "1   60     1     True       True      True         Shahran  1.850000e+09   \n",
       "2   79     2     True       True      True          Pardis  5.500000e+08   \n",
       "3   95     2     True       True      True   Shahrake Qods  9.025000e+08   \n",
       "4  123     2     True       True      True  Shahrake Gharb  7.000000e+09   \n",
       "\n",
       "   Price(USD)  \n",
       "0    61666.67  \n",
       "1    61666.67  \n",
       "2    18333.33  \n",
       "3    30083.33  \n",
       "4   233333.33  "
      ]
     },
     "execution_count": 3,
     "metadata": {},
     "output_type": "execute_result"
    }
   ],
   "source": [
    "df = pd.read_csv(\"housePrice.csv\")"
   ]
  },
  {
   "cell_type": "code",
   "execution_count": 4,
   "id": "d5ee6e26",
   "metadata": {},
   "outputs": [],
   "source": [
    "area_list = df[\"Area\"].tolist()\n",
    "\n",
    "for i in range(len(area_list)):\n",
    "    area_list[i] = float(area_list[i].replace(',', ''))\n",
    "    \n",
    "room_list = df[\"Room\"].tolist()\n",
    "\n",
    "for i in range(len(room_list)):\n",
    "    room_list[i] = float(room_list[i])\n",
    "\n",
    "df.drop(\"Area\", axis=1, inplace=True)\n",
    "df[\"Area\"] = area_list\n",
    "df.drop(\"Room\", axis=1, inplace=True)\n",
    "df[\"Room\"] = room_list\n",
    "df = df[[\"Area\", \"Room\", \"Parking\", \"Warehouse\", \"Elevator\", \"Address\", \"Price\", \"Price(USD)\"]]"
   ]
  },
  {
   "cell_type": "code",
   "execution_count": 5,
   "id": "9795b301",
   "metadata": {},
   "outputs": [],
   "source": [
    "df['Parking'] = df['Parking'].map({True: 'True', False: 'False'})\n",
    "df['Warehouse'] = df['Warehouse'].map({True: 'True', False: 'False'})\n",
    "df['Elevator'] = df['Elevator'].map({True: 'True', False: 'False'})"
   ]
  },
  {
   "cell_type": "code",
   "execution_count": 6,
   "id": "57d9120b",
   "metadata": {},
   "outputs": [],
   "source": [
    "i = df[((df.Area >= 1000))].index\n",
    "df = df.drop(i)"
   ]
  },
  {
   "cell_type": "code",
   "execution_count": 7,
   "id": "c5f75633",
   "metadata": {},
   "outputs": [],
   "source": [
    "df['Address'].replace('', np.nan, inplace=True)\n",
    "df.dropna(subset=['Address'], inplace=True)"
   ]
  },
  {
   "cell_type": "code",
   "execution_count": 8,
   "id": "136724ee",
   "metadata": {},
   "outputs": [],
   "source": [
    "df = df.reset_index(drop=True)"
   ]
  },
  {
   "cell_type": "code",
   "execution_count": 9,
   "id": "b2787c1e",
   "metadata": {},
   "outputs": [],
   "source": [
    "enc = preprocessing.OrdinalEncoder()\n",
    "a = df.drop([\"Area\", \"Room\", \"Price\", \"Price(USD)\"], axis=1)\n",
    "a_list = a.values.tolist()\n",
    "enc.fit(a_list)\n",
    "b = []\n",
    "\n",
    "for i in range(len(a_list)):\n",
    "    b.append(enc.transform([a_list[i]]))\n",
    "             \n",
    "c = []\n",
    "\n",
    "for i in range(len(b)):\n",
    "    d = b[i].tolist()\n",
    "    c.append(d[0])\n",
    "\n",
    "e = pd.DataFrame(c, columns =['Parking', 'Warehouse', 'Elevator', 'Address'])\n",
    "\n",
    "df1 = df.drop(['Parking', 'Warehouse', 'Elevator', 'Address', 'Price', 'Price(USD)'], axis=1)"
   ]
  },
  {
   "cell_type": "code",
   "execution_count": 10,
   "id": "54902794",
   "metadata": {},
   "outputs": [],
   "source": [
    "df1 = df1.reset_index(drop=True)"
   ]
  },
  {
   "cell_type": "code",
   "execution_count": 11,
   "id": "ca5b3914",
   "metadata": {},
   "outputs": [],
   "source": [
    "df2 = pd.concat([df1, e], axis=1, join='inner')"
   ]
  },
  {
   "cell_type": "code",
   "execution_count": 12,
   "id": "7e222c04",
   "metadata": {},
   "outputs": [],
   "source": [
    "X = df2.copy()\n",
    "y1 = df['Price']\n",
    "y2 = df['Price(USD)']"
   ]
  },
  {
   "cell_type": "code",
   "execution_count": 13,
   "id": "e62cb826",
   "metadata": {},
   "outputs": [
    {
     "data": {
      "text/plain": [
       "(Area         float64\n",
       " Room         float64\n",
       " Parking      float64\n",
       " Warehouse    float64\n",
       " Elevator     float64\n",
       " Address      float64\n",
       " dtype: object,\n",
       " dtype('float64'),\n",
       " dtype('float64'))"
      ]
     },
     "execution_count": 13,
     "metadata": {},
     "output_type": "execute_result"
    }
   ],
   "source": [
    "X.dtypes, y1.dtypes, y2.dtypes"
   ]
  },
  {
   "cell_type": "code",
   "execution_count": 14,
   "id": "66a43c50",
   "metadata": {},
   "outputs": [],
   "source": [
    "X1_train, X1_test, y1_train, y1_test = train_test_split(X, y1, test_size=0.35, random_state=0)\n",
    "\n",
    "\n",
    "X2_train, X2_test, y2_train, y2_test = train_test_split(X, y2, test_size=0.35, random_state=0)"
   ]
  },
  {
   "cell_type": "code",
   "execution_count": null,
   "id": "bd022779",
   "metadata": {},
   "outputs": [],
   "source": [
    "from sklearn import linear_model\n",
    "reg1 = linear_model.LinearRegression()\n",
    "reg1.fit(X1_train, y1_train)\n",
    "y1_ = reg1.predict(X1_)"
   ]
  },
  {
   "cell_type": "code",
   "execution_count": null,
   "id": "47450e3f",
   "metadata": {},
   "outputs": [],
   "source": [
    "reg2 = linear_model.LinearRegression()\n",
    "reg2.fit(X2_train, y2_train)\n",
    "y2_ = reg1.predict(X2_)"
   ]
  }
 ],
 "metadata": {
  "kernelspec": {
   "display_name": "Python 3 (ipykernel)",
   "language": "python",
   "name": "python3"
  },
  "language_info": {
   "codemirror_mode": {
    "name": "ipython",
    "version": 3
   },
   "file_extension": ".py",
   "mimetype": "text/x-python",
   "name": "python",
   "nbconvert_exporter": "python",
   "pygments_lexer": "ipython3",
   "version": "3.11.2"
  }
 },
 "nbformat": 4,
 "nbformat_minor": 5
}
